{
 "cells": [
  {
   "cell_type": "code",
   "execution_count": null,
   "id": "8be1911b",
   "metadata": {
    "vscode": {
     "languageId": "plaintext"
    }
   },
   "outputs": [
    {
     "data": {
      "text/html": [
       "<img src=\"https://raw.githubusercontent.com/PokeAPI/sprites/master/sprites/pokemon/77.png\"/>"
      ],
      "text/plain": [
       "<IPython.core.display.Image object>"
      ]
     },
     "metadata": {},
     "output_type": "display_data"
    },
    {
     "name": "stdout",
     "output_type": "stream",
     "text": [
      "Ponyta is a Pokémon of type fire\n",
      "HP: 50 - Attack: 85 - Defense: 55\n"
     ]
    }
   ],
   "source": [
    "import requests\n",
    "from IPython.display import Image, display\n",
    "\n",
    "class Pokemon:\n",
    "  def __init__(self, name, type1, type2, hp, attack, defense, sprite):\n",
    "    self.name = name\n",
    "    self.type1 = type1\n",
    "    self.type2 = type2\n",
    "    self.hp = hp\n",
    "    self.attack = attack\n",
    "    self.defense = defense\n",
    "    self.sprite = sprite\n",
    "\n",
    "  def __str__(self):\n",
    "    description = f\"{self.name} is a Pokémon of type {self.type1}\"\n",
    "    if self.type2:\n",
    "      description += f\" and {self.type2}\"\n",
    "    description += f\"\\nHP: {self.hp} - Attack: {self.attack} - Defense: {self.defense}\"\n",
    "    return description\n",
    "\n",
    "  def show_pokemon_sprite(self):\n",
    "    display(Image(url=self.sprite))\n",
    "\n",
    "def search_pokemon():\n",
    "  asked_pokemon = 'ponyta'\n",
    "\n",
    "  url = f'https://pokeapi.co/api/v2/pokemon/{asked_pokemon.lower()}'\n",
    "\n",
    "  response = requests.get(url)\n",
    "  \n",
    "  if response.status_code == 404:\n",
    "    return \"This Pokémon doesn't exist.\"\n",
    "  \n",
    "  else:\n",
    "    decoded_response = response.json()\n",
    "\n",
    "    types = decoded_response['types']\n",
    "    type1 = types[0]['type']['name']\n",
    "    type2 = types[1]['type']['name'] if len(types) > 1 else None\n",
    "\n",
    "    stats = decoded_response['stats']\n",
    "    stat_map = {stat['stat']['name']: stat['base_stat'] for stat in stats}\n",
    "    hp = stat_map.get('hp', 0)\n",
    "    attack = stat_map.get('attack', 0)\n",
    "    defense = stat_map.get('defense', 0)\n",
    "\n",
    "    sprites = decoded_response['sprites']\n",
    "    sprite = sprites['front_default']\n",
    "\n",
    "    pokemon = Pokemon(\n",
    "      decoded_response['name'].capitalize(),\n",
    "      type1,\n",
    "      type2,\n",
    "      hp,\n",
    "      attack,\n",
    "      defense,\n",
    "      sprite\n",
    "    )\n",
    "\n",
    "    pokemon.show_pokemon_sprite()\n",
    "    \n",
    "    return pokemon\n",
    "\n",
    "def main():\n",
    "  print(search_pokemon())\n",
    "\n",
    "if __name__ == '__main__':\n",
    "  main()"
   ]
  },
  {
   "cell_type": "code",
   "execution_count": null,
   "id": "c710d5e6-8ccd-4d31-a3a5-aef0668b5a7f",
   "metadata": {},
   "outputs": [],
   "source": []
  }
 ],
 "metadata": {
  "kernelspec": {
   "display_name": "Python 3 (ipykernel)",
   "language": "python",
   "name": "python3"
  },
  "language_info": {
   "codemirror_mode": {
    "name": "ipython",
    "version": 3
   },
   "file_extension": ".py",
   "mimetype": "text/x-python",
   "name": "python",
   "nbconvert_exporter": "python",
   "pygments_lexer": "ipython3",
   "version": "3.13.2"
  }
 },
 "nbformat": 4,
 "nbformat_minor": 5
}
